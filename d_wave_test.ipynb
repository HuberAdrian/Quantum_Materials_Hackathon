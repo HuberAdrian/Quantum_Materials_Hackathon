{
 "cells": [
  {
   "cell_type": "code",
   "execution_count": 1,
   "id": "aa77217a",
   "metadata": {},
   "outputs": [
    {
     "ename": "ValueError",
     "evalue": "API token not defined",
     "output_type": "error",
     "traceback": [
      "\u001b[31m---------------------------------------------------------------------------\u001b[39m",
      "\u001b[31mValueError\u001b[39m                                Traceback (most recent call last)",
      "\u001b[36mCell\u001b[39m\u001b[36m \u001b[39m\u001b[32mIn[1]\u001b[39m\u001b[32m, line 7\u001b[39m\n\u001b[32m      5\u001b[39m bqm = dimod.BinaryQuadraticModel({}, {}, \u001b[32m0.0\u001b[39m, \u001b[33m'\u001b[39m\u001b[33mBINARY\u001b[39m\u001b[33m'\u001b[39m)\n\u001b[32m      6\u001b[39m \u001b[38;5;66;03m# Add variables and interactions (detailed below)\u001b[39;00m\n\u001b[32m----> \u001b[39m\u001b[32m7\u001b[39m sampler = \u001b[43mLeapHybridSampler\u001b[49m\u001b[43m(\u001b[49m\u001b[43m)\u001b[49m\n\u001b[32m      8\u001b[39m response = sampler.sample(bqm, time_limit=\u001b[32m30\u001b[39m)\n",
      "\u001b[36mFile \u001b[39m\u001b[32m/opt/homebrew/lib/python3.11/site-packages/dwave/system/samplers/leap_hybrid_sampler.py:139\u001b[39m, in \u001b[36mLeapHybridSampler.__init__\u001b[39m\u001b[34m(self, **config)\u001b[39m\n\u001b[32m    136\u001b[39m     \u001b[38;5;28;01mraise\u001b[39;00m \u001b[38;5;167;01mTypeError\u001b[39;00m(\u001b[33m\"\u001b[39m\u001b[33mmapping expected for \u001b[39m\u001b[33m'\u001b[39m\u001b[33mdefaults\u001b[39m\u001b[33m'\u001b[39m\u001b[33m\"\u001b[39m)\n\u001b[32m    137\u001b[39m defaults.update(solver=\u001b[38;5;28mself\u001b[39m.default_solver)\n\u001b[32m--> \u001b[39m\u001b[32m139\u001b[39m \u001b[38;5;28mself\u001b[39m.client = \u001b[43mClient\u001b[49m\u001b[43m.\u001b[49m\u001b[43mfrom_config\u001b[49m\u001b[43m(\u001b[49m\u001b[43m*\u001b[49m\u001b[43m*\u001b[49m\u001b[43mconfig\u001b[49m\u001b[43m)\u001b[49m\n\u001b[32m    140\u001b[39m \u001b[38;5;28mself\u001b[39m.solver = \u001b[38;5;28mself\u001b[39m.client.get_solver()\n\u001b[32m    142\u001b[39m \u001b[38;5;66;03m# check user-specified solver conforms to our requirements\u001b[39;00m\n",
      "\u001b[36mFile \u001b[39m\u001b[32m/opt/homebrew/lib/python3.11/site-packages/dwave/cloud/client/base.py:447\u001b[39m, in \u001b[36mClient.from_config\u001b[39m\u001b[34m(cls, config_file, profile, client, **kwargs)\u001b[39m\n\u001b[32m    444\u001b[39m _client = config.pop(\u001b[33m'\u001b[39m\u001b[33mclient\u001b[39m\u001b[33m'\u001b[39m, \u001b[38;5;28;01mNone\u001b[39;00m) \u001b[38;5;129;01mor\u001b[39;00m \u001b[33m'\u001b[39m\u001b[33mbase\u001b[39m\u001b[33m'\u001b[39m\n\u001b[32m    446\u001b[39m logger.debug(\u001b[33m\"\u001b[39m\u001b[33mCreating \u001b[39m\u001b[38;5;132;01m%s\u001b[39;00m\u001b[33m.Client() with: \u001b[39m\u001b[38;5;132;01m%r\u001b[39;00m\u001b[33m\"\u001b[39m, _client, config)\n\u001b[32m--> \u001b[39m\u001b[32m447\u001b[39m \u001b[38;5;28;01mreturn\u001b[39;00m \u001b[43m_clients\u001b[49m\u001b[43m[\u001b[49m\u001b[43m_client\u001b[49m\u001b[43m]\u001b[49m\u001b[43m(\u001b[49m\u001b[43m*\u001b[49m\u001b[43m*\u001b[49m\u001b[43mconfig\u001b[49m\u001b[43m)\u001b[49m\n",
      "\u001b[36mFile \u001b[39m\u001b[32m/opt/homebrew/lib/python3.11/site-packages/dwave/cloud/events.py:109\u001b[39m, in \u001b[36mdispatches_events.__call__.<locals>.wrapped\u001b[39m\u001b[34m(*pargs, **kwargs)\u001b[39m\n\u001b[32m    104\u001b[39m \u001b[38;5;129m@wraps\u001b[39m(fn)\n\u001b[32m    105\u001b[39m \u001b[38;5;28;01mdef\u001b[39;00m\u001b[38;5;250m \u001b[39m\u001b[34mwrapped\u001b[39m(*pargs, **kwargs):\n\u001b[32m    106\u001b[39m     \u001b[38;5;28;01mif\u001b[39;00m \u001b[38;5;129;01mnot\u001b[39;00m (has_handler(\u001b[38;5;28mself\u001b[39m.before_eventname) \u001b[38;5;129;01mor\u001b[39;00m\n\u001b[32m    107\u001b[39m             has_handler(\u001b[38;5;28mself\u001b[39m.after_eventname)):\n\u001b[32m    108\u001b[39m         \u001b[38;5;66;03m# skip dispatch altogether\u001b[39;00m\n\u001b[32m--> \u001b[39m\u001b[32m109\u001b[39m         \u001b[38;5;28;01mreturn\u001b[39;00m \u001b[43mfn\u001b[49m\u001b[43m(\u001b[49m\u001b[43m*\u001b[49m\u001b[43mpargs\u001b[49m\u001b[43m,\u001b[49m\u001b[43m \u001b[49m\u001b[43m*\u001b[49m\u001b[43m*\u001b[49m\u001b[43mkwargs\u001b[49m\u001b[43m)\u001b[49m\n\u001b[32m    111\u001b[39m     sig = inspect.signature(fn)\n\u001b[32m    112\u001b[39m     bound = sig.bind(*pargs, **kwargs)\n",
      "\u001b[36mFile \u001b[39m\u001b[32m/opt/homebrew/lib/python3.11/site-packages/dwave/cloud/client/base.py:481\u001b[39m, in \u001b[36mClient.__init__\u001b[39m\u001b[34m(self, **kwargs)\u001b[39m\n\u001b[32m    478\u001b[39m     \u001b[38;5;28;01mraise\u001b[39;00m \u001b[38;5;167;01mValueError\u001b[39;00m(\u001b[33m\"\u001b[39m\u001b[33mAPI endpoint not defined\u001b[39m\u001b[33m\"\u001b[39m)\n\u001b[32m    480\u001b[39m \u001b[38;5;28;01mif\u001b[39;00m \u001b[38;5;129;01mnot\u001b[39;00m \u001b[38;5;28mself\u001b[39m.config.token:\n\u001b[32m--> \u001b[39m\u001b[32m481\u001b[39m     \u001b[38;5;28;01mraise\u001b[39;00m \u001b[38;5;167;01mValueError\u001b[39;00m(\u001b[33m\"\u001b[39m\u001b[33mAPI token not defined\u001b[39m\u001b[33m\"\u001b[39m)\n\u001b[32m    483\u001b[39m \u001b[38;5;66;03m# Build the problem submission queue, start its workers\u001b[39;00m\n\u001b[32m    484\u001b[39m \u001b[38;5;28mself\u001b[39m._submission_queue = queue.Queue()\n",
      "\u001b[31mValueError\u001b[39m: API token not defined"
     ]
    }
   ],
   "source": [
    "from dwave.system import LeapHybridSampler\n",
    "import dimod\n",
    "\n",
    "# Create BQM for alloy optimization\n",
    "bqm = dimod.BinaryQuadraticModel({}, {}, 0.0, 'BINARY')\n",
    "# Add variables and interactions (detailed below)\n",
    "sampler = LeapHybridSampler()\n",
    "response = sampler.sample(bqm, time_limit=30)"
   ]
  }
 ],
 "metadata": {
  "kernelspec": {
   "display_name": "Python 3",
   "language": "python",
   "name": "python3"
  },
  "language_info": {
   "codemirror_mode": {
    "name": "ipython",
    "version": 3
   },
   "file_extension": ".py",
   "mimetype": "text/x-python",
   "name": "python",
   "nbconvert_exporter": "python",
   "pygments_lexer": "ipython3",
   "version": "3.11.12"
  }
 },
 "nbformat": 4,
 "nbformat_minor": 5
}
